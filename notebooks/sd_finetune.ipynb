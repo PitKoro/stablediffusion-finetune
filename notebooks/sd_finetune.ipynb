{
 "cells": [
  {
   "cell_type": "markdown",
   "id": "a3b7526d-649c-4ec4-9b65-baa6d13b0e5c",
   "metadata": {},
   "source": [
    "# Finetune stable-diffusion"
   ]
  },
  {
   "cell_type": "markdown",
   "id": "7bb7b720-9af2-4b5e-adbe-ea7c7cec74b0",
   "metadata": {},
   "source": [
    "1) В терминале выполните комманду \n",
    "\n",
    "```accelerate config```\n",
    "\n",
    "Правильные ответы на викторину:\n",
    "\n",
    "- ```This machine```\n",
    "- ```No distributed learning```\n",
    "- ```No```\n",
    "- ```No```\n",
    "- ```No```\n",
    "- ```all```\n",
    "- ```fp16```"
   ]
  },
  {
   "cell_type": "markdown",
   "id": "4ddb5bed-bf8d-4bee-91cc-1193ff2e77cc",
   "metadata": {},
   "source": [
    "2) Далее нужно залогиниться в huggingface\n",
    "\n",
    "```huggingface-cli login```\n",
    "\n",
    "Ему нужно будет ввести свой токен с huggingface"
   ]
  },
  {
   "cell_type": "markdown",
   "id": "91319000-6088-4c3e-ad99-d99510b59555",
   "metadata": {},
   "source": [
    "## Обучение на наборе данных с покемонами\n"
   ]
  },
  {
   "cell_type": "markdown",
   "id": "f4b84a7d-a940-496c-b38c-9a616d075411",
   "metadata": {},
   "source": [
    "* Блокнот с обучением, но нужна видеокарта с более 24гб памяти:\n",
    "\n",
    "https://github.com/LambdaLabsML/examples/tree/main/stable-diffusion-finetuning\n",
    "\n",
    "\n",
    "* Репозиторий с которого было взято обучение (нужно от 24гб памяти видеокарты):\n",
    "\n",
    "https://github.com/huggingface/diffusers/tree/main/examples/text_to_image\n",
    "\n",
    "\n",
    "\n"
   ]
  },
  {
   "cell_type": "markdown",
   "id": "6a9a1f2f-6433-4383-8344-33edd40be722",
   "metadata": {},
   "source": [
    "*Нужно последовательно ввести в терминал эти команды, чтобы запустить обучение:*\n",
    "\n",
    "```export MODEL_NAME=\"CompVis/stable-diffusion-v1-4\"```\n",
    "\n",
    "```export dataset_name=\"lambdalabs/pokemon-blip-captions\"```\n",
    "\n",
    "```accelerate launch /app/src/train_text_to_image.py --pretrained_model_name_or_path=$MODEL_NAME --dataset_name=$dataset_name --use_ema --resolution=512 --center_crop --random_flip --train_batch_size=1 --gradient_accumulation_steps=1 --gradient_checkpointing --mixed_precision=\"fp16\" --max_train_steps=15000 --learning_rate=1e-05 --max_grad_norm=1 --lr_scheduler=\"constant\" --lr_warmup_steps=0 --output_dir=\"my_sec_pokeball-model\"```"
   ]
  },
  {
   "cell_type": "markdown",
   "id": "80781324-a382-420e-a05a-e2ce316d2db7",
   "metadata": {},
   "source": [
    "## Обучение на собственном наборе данных"
   ]
  },
  {
   "cell_type": "markdown",
   "id": "5729a2f2-3f5b-49b8-802e-e3f0eaea7040",
   "metadata": {},
   "source": [
    "Сначала нужно создать датасет для обучения.\n",
    "\n",
    "Создание обучаещего набора данных происходит в блокноте ```square_cropping.ipynb```"
   ]
  },
  {
   "cell_type": "markdown",
   "id": "ecbae15b-acb8-4bd6-b8fc-178c728a2e47",
   "metadata": {},
   "source": [
    "Далее передаем обучающий датасет в скрипт.\n",
    "\n",
    "Выполняем комманды в терминале:\n",
    "\n",
    "\n",
    "```export TRAIN_DATA=\"/app/notebooks/dataset\"```\n",
    "\n",
    "```accelerate launch /app/src/train_text_to_image.py --pretrained_model_name_or_path=$MODEL_NAME --train_data_dir=$TRAIN_DATA --use_ema --resolution=512 --center_crop --random_flip --train_batch_size=1 --gradient_accumulation_steps=1 --gradient_checkpointing --mixed_precision=\"fp16\" --max_train_steps=15000 --learning_rate=1e-05 --max_grad_norm=1 --lr_scheduler=\"constant\" --lr_warmup_steps=0 --output_dir=\"sd-pipe-model\"```"
   ]
  },
  {
   "cell_type": "markdown",
   "id": "009b80d3-ad0f-42d6-9c88-06f58d8079ec",
   "metadata": {},
   "source": [
    "На выходе веса в папке ```src/sd-pipe-model```"
   ]
  }
 ],
 "metadata": {
  "kernelspec": {
   "display_name": "Python 3 (ipykernel)",
   "language": "python",
   "name": "python3"
  },
  "language_info": {
   "codemirror_mode": {
    "name": "ipython",
    "version": 3
   },
   "file_extension": ".py",
   "mimetype": "text/x-python",
   "name": "python",
   "nbconvert_exporter": "python",
   "pygments_lexer": "ipython3",
   "version": "3.7.13"
  },
  "vscode": {
   "interpreter": {
    "hash": "916dbcbb3f70747c44a77c7bcd40155683ae19c65e1c03b4aa3499c5328201f1"
   }
  }
 },
 "nbformat": 4,
 "nbformat_minor": 5
}
